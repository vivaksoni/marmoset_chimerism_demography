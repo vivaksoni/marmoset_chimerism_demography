{
 "cells": [
  {
   "cell_type": "code",
   "execution_count": null,
   "id": "34f53e26-d42c-42f6-876d-35249ad391ba",
   "metadata": {},
   "outputs": [],
   "source": [
    "import pandas as pd\n",
    "import numpy as np\n",
    "import itertools\n",
    "import random\n",
    "import scipy.stats as stats"
   ]
  },
  {
   "cell_type": "code",
   "execution_count": null,
   "id": "8128245c-26ac-496d-afd9-7858b343272d",
   "metadata": {},
   "outputs": [],
   "source": [
    "totalWins = 1000\n",
    "windowSize = 1000\n",
    "pos = [int(x+1) for x in range(0, totalWins*windowSize, windowSize)]\n",
    "for i in range(1, 101):\n",
    "    lst = []\n",
    "    for j in range(1, 1001):\n",
    "        lst.append(PosNormal(0.81, 0.81*0.785))\n",
    "    rates = np.concatenate(lst)\n",
    "    df = pd.DataFrame([pos, rates]).T\n",
    "    df[1] = df[1] * 1e-8\n",
    "    df.to_csv(r\"/home/vivak/chimerism/mu_maps4/\"+str(i)+\".txt\", \n",
    "              sep='\\t', \n",
    "              header=False, \n",
    "              index=False)"
   ]
  },
  {
   "cell_type": "code",
   "execution_count": null,
   "id": "b69c3cb6-8d5e-49ac-b034-6a549c767350",
   "metadata": {},
   "outputs": [],
   "source": [
    "totalWins = 1000\n",
    "windowSize = 1000\n",
    "pos = [int(x+1) for x in range(0, totalWins*windowSize, windowSize)]\n",
    "for i in range(1, 101):\n",
    "    lst = []\n",
    "    for j in range(1, 1001):\n",
    "        lst.append(PosNormal(1, 1*6.47))\n",
    "    rates = np.concatenate(lst)\n",
    "    df = pd.DataFrame([pos, rates]).T\n",
    "    df[1] = df[1] * 1e-8\n",
    "    df.to_csv(r\"/home/vivak/chimerism/rr_maps3/\"+str(i)+\".txt\", \n",
    "              sep='\\t', \n",
    "              header=False, \n",
    "              index=False)"
   ]
  }
 ],
 "metadata": {
  "kernelspec": {
   "display_name": "Python 3 (ipykernel)",
   "language": "python",
   "name": "python3"
  },
  "language_info": {
   "codemirror_mode": {
    "name": "ipython",
    "version": 3
   },
   "file_extension": ".py",
   "mimetype": "text/x-python",
   "name": "python",
   "nbconvert_exporter": "python",
   "pygments_lexer": "ipython3",
   "version": "3.11.5"
  }
 },
 "nbformat": 4,
 "nbformat_minor": 5
}
