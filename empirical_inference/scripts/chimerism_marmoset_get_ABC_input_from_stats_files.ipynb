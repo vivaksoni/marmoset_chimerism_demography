{
 "cells": [
  {
   "cell_type": "code",
   "execution_count": 1,
   "id": "a75e5f2e-bcf1-42a4-bf20-8165aac95df7",
   "metadata": {
    "tags": []
   },
   "outputs": [],
   "source": [
    "import numpy as np\n",
    "import pandas as pd"
   ]
  },
  {
   "cell_type": "code",
   "execution_count": 2,
   "id": "b0164db0-d2d7-41f3-8cef-dff801fcd483",
   "metadata": {
    "tags": []
   },
   "outputs": [],
   "source": [
    "#Create df to store means and variances\n",
    "sdf = pd.DataFrame()\n",
    "#Loop through parameter combinations\n",
    "for param in range(1, 1154):\n",
    "    #Create empty df to store concatenated replicates\n",
    "    rdf = pd.DataFrame()\n",
    "    #Loop through replicates\n",
    "    for i in range(1, 101):\n",
    "        try:\n",
    "            #Load in stats for given replicate and concatenate with rdf\n",
    "            df = pd.read_csv(r\"/home/vivak/chimerism/marmoset/simulated/stats/\"+str(param)+\"_rep\" + str(i) + \"_chimeric.stats\", sep='\\t', header=0)\n",
    "            for stat in ['nhaps', 'numexternalmutations', 'numpoly', 'numsingletons', 'thetah', 'thetal', 'thetapi', 'thetaw']:\n",
    "                df[stat] = df[stat] / 10000\n",
    "            rdf = pd.concat([rdf,df])\n",
    "        except Exception:\n",
    "            pass\n",
    "    rdf = rdf.dropna()\n",
    "    if(len(rdf)>1):\n",
    "        #Create lists to store means and stds across all 10kb wins of all 100 replicates\n",
    "        means = []\n",
    "        stds = []\n",
    "        #Calculcate means and replicates for all stats\n",
    "        for stat in rdf.columns[1:]:\n",
    "            means.append(rdf[stat].mean())\n",
    "            stds.append(rdf[stat].std())\n",
    "        #Create df and concatenate to output df\n",
    "        tdf = pd.DataFrame([param] + means + stds).T\n",
    "        tdf.columns = ['param'] + [x+'_m' for x in df.columns[1:]] + [x+'_std' for x in df.columns[1:]]\n",
    "        sdf = pd.concat([sdf, tdf])\n",
    "        \n",
    "sdf.to_csv(r\"/home/vivak/chimerism/marmoset/simulated/stats/readyForABC.stats\",sep='\\t', header=True, index=False)"
   ]
  },
  {
   "cell_type": "code",
   "execution_count": 18,
   "id": "1ac7cd08-637b-4fa8-b222-17342ca658ca",
   "metadata": {
    "tags": []
   },
   "outputs": [],
   "source": [
    "#Create df to store means and variances\n",
    "sdf = pd.DataFrame()\n",
    "#Loop through parameter combinations\n",
    "for param in range(1, 601):\n",
    "    #Create empty df to store concatenated replicates\n",
    "    rdf = pd.DataFrame()\n",
    "    #Loop through replicates\n",
    "    for i in range(1, 101):\n",
    "        try:\n",
    "            #Load in stats for given replicate and concatenate with rdf\n",
    "            df = pd.read_csv(r\"/home/vivak/chimerism/marmoset/simulated/stats/\"+str(param)+\"_rep\" + str(i) + \"_chimeric.stats\", sep='\\t', header=0)\n",
    "            df = df[['window', 'numpoly', 'numsingletons', 'tajimasd', 'thetah', 'thetapi', 'thetaw']]\n",
    "            rdf = pd.concat([rdf,df])\n",
    "        except Exception:\n",
    "            pass\n",
    "    rdf = rdf.dropna()\n",
    "    if(len(rdf)>1):\n",
    "        #Create lists to store means and stds across all 10kb wins of all 100 replicates\n",
    "        means = []\n",
    "        stds = []\n",
    "        #Calculcate means and replicates for all stats\n",
    "        for stat in rdf.columns[1:]:\n",
    "            means.append(rdf[stat].mean())\n",
    "            stds.append(rdf[stat].std())\n",
    "        #Create df and concatenate to output df\n",
    "        tdf = pd.DataFrame([param] + means + stds).T\n",
    "        tdf.columns = ['param'] + [x+'_m' for x in df.columns[1:]] + [x+'_std' for x in df.columns[1:]]\n",
    "        sdf = pd.concat([sdf, tdf])\n",
    "\n",
    "sdf.to_csv(r\"/home/vivak/chimerism/marmoset/simulated/stats/readyForABC_noLD.stats\",sep='\\t', header=True, index=False)"
   ]
  },
  {
   "cell_type": "code",
   "execution_count": null,
   "id": "8c7db36b-588c-44db-aead-5deadd848a69",
   "metadata": {},
   "outputs": [],
   "source": []
  }
 ],
 "metadata": {
  "kernelspec": {
   "display_name": "Python 3 (ipykernel)",
   "language": "python",
   "name": "python3"
  },
  "language_info": {
   "codemirror_mode": {
    "name": "ipython",
    "version": 3
   },
   "file_extension": ".py",
   "mimetype": "text/x-python",
   "name": "python",
   "nbconvert_exporter": "python",
   "pygments_lexer": "ipython3",
   "version": "3.12.1"
  }
 },
 "nbformat": 4,
 "nbformat_minor": 5
}
