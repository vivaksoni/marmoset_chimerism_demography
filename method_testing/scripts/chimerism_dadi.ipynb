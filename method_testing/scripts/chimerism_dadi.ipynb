{
 "cells": [
  {
   "cell_type": "code",
   "execution_count": 2,
   "id": "527c5061-049c-4890-a130-a8ef49163894",
   "metadata": {},
   "outputs": [],
   "source": [
    "import multiprocessing\n",
    "import dadi\n",
    "import pandas as pd\n",
    "import numpy as np\n",
    "import random\n",
    "import argparse\n",
    "from itertools import product\n",
    "import matplotlib.pyplot as plt\n",
    "import tskit\n",
    "import numpy\n",
    "import seaborn as sns"
   ]
  },
  {
   "cell_type": "code",
   "execution_count": 4,
   "id": "2e1bb4f3-8537-427e-ab9c-05f2d72222dd",
   "metadata": {},
   "outputs": [],
   "source": [
    "ns = np.array([20])\n",
    "pts_l = [20, 40, 60]"
   ]
  },
  {
   "cell_type": "markdown",
   "id": "eb367661-0cb4-40be-9566-3b8c80185734",
   "metadata": {},
   "source": [
    "<h2>Stationary population</h2>"
   ]
  },
  {
   "cell_type": "code",
   "execution_count": 4,
   "id": "a10e8e91-b89f-4661-93fb-6cf7937001d7",
   "metadata": {},
   "outputs": [],
   "source": [
    "fs = dadi.Spectrum.from_file(inFile)\n",
    "\n",
    "params = [\"notused\"]\n",
    "func = dadi.Demographics1D.snm\n",
    "# Make the extrapolating version of our demographic model function.\n",
    "func_ex = dadi.Numerics.make_extrap_func(func)\n",
    "model = func_ex( params, ns, pts_l)\n",
    "\n",
    "# Likelihood of the data given the model AFS.\n",
    "ll_model = dadi.Inference.ll_multinom(model, fs)\n",
    "theta = dadi.Inference.optimal_sfs_scaling(model, fs)\n",
    "N = theta/(4*0.81e-8*213936105)\n",
    "with open(outFile, 'a') as f:\n",
    "    f.write(str(theta) + '\\t' + str(N) + '\\t' + str(N/10000) + \"\\t\" + str(ll_model) + '\\n')"
   ]
  },
  {
   "cell_type": "markdown",
   "id": "a6fab712-52df-4a2f-a009-1653f241790a",
   "metadata": {},
   "source": [
    "<h2>Population size change inference</h2>"
   ]
  },
  {
   "cell_type": "code",
   "execution_count": null,
   "id": "82cc6247-020e-4c63-ba76-facd85514c2a",
   "metadata": {},
   "outputs": [],
   "source": [
    "#Add input and output file details\n",
    "fs = dadi.Spectrum.from_file(inFile)\n",
    "outFile = r\"\"\n",
    "\"\"\"\n",
    "Instantaneous size change some time ago.\n",
    "\n",
    "params = (nu,T)\n",
    "ns = (n1,)\n",
    "\n",
    "nu: Ratio of contemporary to ancient population size\n",
    "T: Time in the past at which size change happened (in units of 2*Na \n",
    "   generations) \n",
    "n1: Number of samples in resulting Spectrum\n",
    "pts: Number of grid points to use in integration.\n",
    "\"\"\"\n",
    "lb = [0.01, 0.001]\n",
    "ub = [10, 5]\n",
    "p0 = [0.05, 0.1]\n",
    "\n",
    "for i in range(1, 101):\n",
    "    p0 = [0.05, 0.1]\n",
    "    p0 = dadi.Misc.perturb_params(p0, fold=2, upper_bound=ub, lower_bound=lb)\n",
    "\n",
    "    func = dadi.Demographics1D.two_epoch\n",
    "    # Make the extrapolating version of our demographic model function.\n",
    "    func_ex = dadi.Numerics.make_extrap_log_func(func)\n",
    "\n",
    "    popt = dadi.Inference.optimize(p0, fs, func_ex, pts_l, lower_bound=lb, upper_bound=ub, verbose=False, full_output=True, maxiter=300)\n",
    "\n",
    "    #Calculate the best-fit model AFS.\n",
    "    model = func_ex(popt[0], ns, pts_l)\n",
    "    theta = dadi.Inference.optimal_sfs_scaling(model, fs)\n",
    "    # Likelihood of the data given the model AFS.\n",
    "    ll_model = dadi.Inference.ll_multinom(model, fs)\n",
    "    Nanc = theta/(2.5e-8*1000000*4)\n",
    "    Ncurr = popt[0][0]*Nanc\n",
    "    T = popt[0][1]*(2*Nanc)\n",
    "    with open(outFile, 'a') as f:\n",
    "        f.write(str(popt[0][0]) + '\\t' + str(popt[0][1]) + '\\t' + \n",
    "                str(theta) + '\\t' + str(Nanc) + '\\t' + str(Ncurr) + '\\t' + str(T) + \"\\t\" + str(ll_model) + '\\n')\n",
    "    if(i%20==0):\n",
    "        print(\"rep \" + str(i) + \" complete\")\n"
   ]
  }
 ],
 "metadata": {
  "kernelspec": {
   "display_name": "Python 3 (ipykernel)",
   "language": "python",
   "name": "python3"
  },
  "language_info": {
   "codemirror_mode": {
    "name": "ipython",
    "version": 3
   },
   "file_extension": ".py",
   "mimetype": "text/x-python",
   "name": "python",
   "nbconvert_exporter": "python",
   "pygments_lexer": "ipython3",
   "version": "3.11.5"
  }
 },
 "nbformat": 4,
 "nbformat_minor": 5
}
