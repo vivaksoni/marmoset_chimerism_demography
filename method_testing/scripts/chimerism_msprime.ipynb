{
 "cells": [
  {
   "cell_type": "code",
   "execution_count": 1,
   "id": "b60a076f-9cde-4359-8ee5-8bd8e223bff0",
   "metadata": {},
   "outputs": [],
   "source": [
    "# Imports\n",
    "# %matplotlib inline\n",
    "# %config InlineBackend.figure_format = 'svg'\n",
    "import msprime  # >= 0.5\n",
    "import numpy as np\n",
    "import math\n",
    "# import scipy\n",
    "import seaborn as sns\n",
    "import pandas as pd\n",
    "# import multiprocessing\n",
    "import matplotlib.pyplot as plt\n",
    "from IPython.display import SVG\n",
    "# import os\n",
    "# from scipy import stats\n",
    "import itertools\n",
    "import tskit\n",
    "import demes\n",
    "import demesdraw"
   ]
  },
  {
   "cell_type": "code",
   "execution_count": 19,
   "id": "bed41b4c-6cc9-41da-9d0d-5a55128b3192",
   "metadata": {},
   "outputs": [],
   "source": [
    "def snm(N, seq_len, num_replicates, mu, ro):\n",
    "    demography = msprime.Demography()\n",
    "    demography.add_population(\n",
    "        name=\"pop0\",\n",
    "        description=\"Single population\",\n",
    "        initial_size=N,\n",
    "        growth_rate=0,\n",
    "    )\n",
    "\n",
    "    demography.sort_events()\n",
    "    \n",
    "    ancestry_reps = msprime.sim_ancestry(\n",
    "        {\"pop0\": 10},\n",
    "        demography=demography,\n",
    "        sequence_length = seq_len,\n",
    "        recombination_rate = ro,\n",
    "        num_replicates=num_replicates)\n",
    "    \n",
    "    for ts in ancestry_reps:\n",
    "        mutated_ts = msprime.sim_mutations(ts, rate=mu)\n",
    "        yield mutated_ts"
   ]
  },
  {
   "cell_type": "code",
   "execution_count": 20,
   "id": "5a512954-5421-42a0-8540-2ee538e92479",
   "metadata": {},
   "outputs": [],
   "source": [
    "def two_epoch(N, N2, seq_len, num_replicates, mu, ro):\n",
    "    demography = msprime.Demography()\n",
    "    demography.add_population(\n",
    "        name=\"pop0\",\n",
    "        description=\"Single population\",\n",
    "        initial_size=N2,\n",
    "        growth_rate=0,\n",
    "    )\n",
    "    \n",
    "    demography.add_population_parameters_change(time=N2, initial_size=N, growth_rate=None, population='pop0')\n",
    "\n",
    "    demography.sort_events()\n",
    "    \n",
    "    ancestry_reps = msprime.sim_ancestry(\n",
    "        {\"pop0\": 10},\n",
    "        demography=demography,\n",
    "        sequence_length = seq_len,\n",
    "        recombination_rate = ro,\n",
    "        num_replicates=num_replicates)\n",
    "    \n",
    "    for ts in ancestry_reps:\n",
    "        mutated_ts = msprime.sim_mutations(ts, rate=mu)\n",
    "        yield mutated_ts"
   ]
  },
  {
   "cell_type": "code",
   "execution_count": 8,
   "id": "ed163113-45e1-419b-acc1-d0901cfaac06",
   "metadata": {},
   "outputs": [],
   "source": [
    "outPath = r\"/method_testing/WF/\"\n",
    "N = 10000\n",
    "ro = 1e-8\n",
    "mu = 2.5e-8\n",
    "seq_len = 1000000\n",
    "num_replicates = 100\n",
    "ts_list = []\n",
    "for replicate_index, ts in enumerate(snm(N, seq_len, num_replicates, mu, ro)):\n",
    "    ts_list.append(ts)\n",
    "    \n",
    "for rep, ts in enumerate(ts_list):\n",
    "    #ts.dump(outPath + \"/scaffold\" + str(region) + \"_rep\" + str(rep) + \".ts\")\n",
    "    out = open(outPath + \"rep\" + str(rep) + \".vcf\", \"w\")\n",
    "    tskit.TreeSequence.write_vcf(ts, out)"
   ]
  },
  {
   "cell_type": "code",
   "execution_count": 22,
   "id": "60e0dc11-983b-4c98-a9a0-1c65e1b43ad8",
   "metadata": {},
   "outputs": [],
   "source": [
    "d = {'expansion':20000, 'contraction':5000, 'bneck':1000}\n",
    "\n",
    "for demog in d.keys():\n",
    "    outPath = r\"/method_testing/WF/\"+demog+\"/rr_fixed_mu_fixed/WF/\"\n",
    "    N = 10000\n",
    "    N2 = d[demog]\n",
    "    ro = 1e-8\n",
    "    mu = 2.5e-8\n",
    "    seq_len = 1000000\n",
    "    num_replicates = 100\n",
    "    ts_list = []\n",
    "    for replicate_index, ts in enumerate(two_epoch(N, N2, seq_len, num_replicates, mu, ro)):\n",
    "        ts_list.append(ts)\n",
    "\n",
    "    for rep, ts in enumerate(ts_list):\n",
    "        #ts.dump(outPath + \"/scaffold\" + str(region) + \"_rep\" + str(rep) + \".ts\")\n",
    "        out = open(outPath + \"rep\" + str(rep) + \".vcf\", \"w\")\n",
    "        tskit.TreeSequence.write_vcf(ts, out)"
   ]
  },
  {
   "cell_type": "code",
   "execution_count": null,
   "id": "63b2d151-cbf4-4b16-9d50-09c4cdf93b26",
   "metadata": {},
   "outputs": [],
   "source": []
  }
 ],
 "metadata": {
  "kernelspec": {
   "display_name": "Python 3 (ipykernel)",
   "language": "python",
   "name": "python3"
  },
  "language_info": {
   "codemirror_mode": {
    "name": "ipython",
    "version": 3
   },
   "file_extension": ".py",
   "mimetype": "text/x-python",
   "name": "python",
   "nbconvert_exporter": "python",
   "pygments_lexer": "ipython3",
   "version": "3.11.5"
  }
 },
 "nbformat": 4,
 "nbformat_minor": 5
}
